{
 "cells": [
  {
   "cell_type": "code",
   "execution_count": 2,
   "metadata": {},
   "outputs": [],
   "source": [
    "import sys\n",
    "sys.path.append('../src/')\n",
    "\n",
    "import pandas as pd\n",
    "import data_io\n",
    "import utils\n",
    "import requests\n",
    "import hire_tokens as tokens\n",
    "CENSUS_KEY = tokens.CENSUS_KEY"
   ]
  },
  {
   "cell_type": "markdown",
   "metadata": {},
   "source": [
    "### Run functions to get ACS data for calculating Neighborhood Deprivation Index in R"
   ]
  },
  {
   "cell_type": "code",
   "execution_count": 5,
   "metadata": {},
   "outputs": [],
   "source": [
    "'''Functions to get 5-year estimates'''\n",
    "#Retrieve ACS estimates to calculate NDI in R\n",
    "#First, run this script, then go back to R (clustr.R), run the PCA, \n",
    "#and match with GFM data in census_and_gfm_analysis.ipynb\n",
    "def get_acs_estimates_5_year(census_key, save):\n",
    "    \n",
    "    variable_df = pd.read_csv(data_io.input_cleaned/'census'/'census_variables.csv',\n",
    "                              encoding='utf-8')\n",
    "    \n",
    "    variable_df = variable_df.loc[0:len(variable_df)-1, :]\n",
    "    variables = variable_df['variable_call'].to_list()\n",
    "    vars_to_get = ','.join(variables)\n",
    "    base_request = (\"https://api.census.gov/data/2017/acs/acs5/profile?get=NAME,\"+\n",
    "                    vars_to_get+\n",
    "                    \"&for=county:*&in=state:*&key=\")\n",
    "    full_request = base_request + census_key\n",
    "    \n",
    "    response = requests.get(full_request)\n",
    "    results = response.json()\n",
    "    df = pd.DataFrame(data=results[1:][:], columns=results[0][:])  # 1st row as the column names\n",
    "    new_names = dict(zip(variable_df['variable_call'].to_list(), variable_df['variable_label'].to_list()))\n",
    "    df.rename(columns=new_names, inplace=True)\n",
    "    \n",
    "    df['percent_crowding'] = df['percent_1_1.5_per_room'].astype(float) + df['more_1.5_per_room'].astype(float)\n",
    "    df['percent_single_parent'] = df['single_dad'].astype(float) + df['single_mom'].astype(float)\n",
    "    df['state_int'] = df['state'].astype(int)\n",
    "    df = df[df['state_int']<=56]\n",
    "    \n",
    "    income_ineq_req = \"https://api.census.gov/data/2017/acs/acs5?get=NAME,B19083_001E&for=county:*&in=state:*&key=\"\n",
    "    income_ineq_req = income_ineq_req + census_key\n",
    "    response = requests.get(income_ineq_req)\n",
    "    results = response.json()\n",
    "    \n",
    "    new = pd.DataFrame(data=results[1:][:], columns=results[0][:])\n",
    "    \n",
    "    all_vars = pd.merge(df, new, how='left', on='NAME')\n",
    "    all_vars.drop(columns=['state_x', 'county_x'], inplace=True)\n",
    "    all_vars.rename(columns={'B19083_001E':'gini_income_inequality', 'state_y':'state',\n",
    "                             'county_y':'county'}, inplace=True)\n",
    "    all_vars['percent_less_35k'] = (all_vars['percent_less_10k'].astype(float) + all_vars['percent_10k_15k'].astype(float) + \n",
    "                                    all_vars['percent_15k_25k'].astype(float) + all_vars['percent_25k_35k'].astype(float))\n",
    "    \n",
    "    all_vars['state_county_fips_str'] = (all_vars['state'].apply(utils.format_state_fip)+\n",
    "                                                                 all_vars['county'].apply(utils.format_county_fip))\n",
    "    \n",
    "    if save:\n",
    "        all_vars.to_csv(data_io.input_cleaned/'census'/'acs_five_year_est.csv',encoding='utf-8',\n",
    "                  index=False)\n",
    "    return all_vars\n"
   ]
  },
  {
   "cell_type": "markdown",
   "metadata": {},
   "source": [
    "#### Generate Census datasets for use in R"
   ]
  },
  {
   "cell_type": "code",
   "execution_count": 6,
   "metadata": {},
   "outputs": [],
   "source": [
    "census = get_acs_estimates_5_year(CENSUS_KEY, save = True)"
   ]
  },
  {
   "cell_type": "markdown",
   "metadata": {},
   "source": [
    "#### Use ..R/clust.R to generate neighborhood deprivation indices"
   ]
  },
  {
   "cell_type": "code",
   "execution_count": null,
   "metadata": {},
   "outputs": [],
   "source": []
  }
 ],
 "metadata": {
  "kernelspec": {
   "display_name": "Python 3",
   "language": "python",
   "name": "python3"
  },
  "language_info": {
   "codemirror_mode": {
    "name": "ipython",
    "version": 3
   },
   "file_extension": ".py",
   "mimetype": "text/x-python",
   "name": "python",
   "nbconvert_exporter": "python",
   "pygments_lexer": "ipython3",
   "version": "3.7.8"
  }
 },
 "nbformat": 4,
 "nbformat_minor": 2
}
